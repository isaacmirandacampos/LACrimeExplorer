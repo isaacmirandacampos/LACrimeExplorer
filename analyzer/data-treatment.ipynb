{
 "cells": [
  {
   "cell_type": "code",
   "execution_count": null,
   "id": "61d45f32",
   "metadata": {},
   "outputs": [],
   "source": [
    "!pip install pandas"
   ]
  },
  {
   "cell_type": "code",
   "execution_count": null,
   "id": "3b8f7c9a",
   "metadata": {},
   "outputs": [],
   "source": [
    "import pandas as pd"
   ]
  },
  {
   "cell_type": "code",
   "execution_count": null,
   "id": "215e35f0",
   "metadata": {},
   "outputs": [],
   "source": [
    "source_dataset = 'dataset.csv'"
   ]
  },
  {
   "cell_type": "code",
   "execution_count": null,
   "id": "f544659e",
   "metadata": {},
   "outputs": [],
   "source": [
    "df = pd.read_csv(source_dataset)"
   ]
  },
  {
   "cell_type": "code",
   "execution_count": null,
   "id": "bc3d47e9",
   "metadata": {
    "scrolled": true
   },
   "outputs": [],
   "source": [
    "# Quantidade de cabeçalhos\n",
    "df.head()"
   ]
  },
  {
   "cell_type": "code",
   "execution_count": null,
   "id": "4a2d4c4d",
   "metadata": {},
   "outputs": [],
   "source": [
    "df['victim_id'] = range(1, len(df) + 1)\n",
    "df['place_id'] = range(1, len(df) + 1)"
   ]
  },
  {
   "cell_type": "code",
   "execution_count": null,
   "id": "6445dcfd",
   "metadata": {
    "scrolled": true
   },
   "outputs": [],
   "source": [
    "# Identificar os tipos de dados\n",
    "df.dtypes"
   ]
  },
  {
   "cell_type": "code",
   "execution_count": null,
   "id": "c5c0ce25",
   "metadata": {},
   "outputs": [],
   "source": [
    "# transformar coluna object em data\n",
    "df['date_reported'] = pd.to_datetime(df['date_reported'])\n",
    "df['date_occurred'] = pd.to_datetime(df['date_occurred'])\n",
    "df.rename(columns={'date_reported': 'reported_at', 'date_occurred': 'occurred_at'}, inplace=True)\n",
    "\n",
    "# Tratando coluna de status\n",
    "df.drop(labels=['status'], axis=1, inplace=True)\n",
    "df.rename(columns={'status_description': 'status'}, inplace=True)\n",
    "df.dtypes"
   ]
  },
  {
   "cell_type": "code",
   "execution_count": null,
   "id": "79e57403",
   "metadata": {
    "scrolled": false
   },
   "outputs": [],
   "source": [
    "# Separando os códigos criminais e suas respectivas descrições.\n",
    "df_crime_code = df.drop_duplicates(subset='crime_code')\n",
    "df_crime_code = df_crime_code[['crime_code', 'crime_description']]\n",
    "\n",
    "# Renomeando as colunas\n",
    "df_crime_code.rename(columns={'crime_code': 'id'}, inplace=True)\n",
    "df.rename(columns={'crime_code': 'crime_id', 'crime_code_1': 'crime_id_1', 'crime_code_2': 'crime_id_2', 'crime_code_3': 'crime_id_3', 'crime_code_4': 'crime_id_4'}, inplace=True)\n",
    "df.drop(labels=['crime_description', 'division_number', 'modus_operandi'],  axis=1, inplace=True)\n",
    "\n",
    "\n",
    "# Salvando o conteudo\n",
    "df_crime_code.to_csv('crime.csv', sep=';', encoding='utf-8', index=False)\n",
    "df_crime_code.head()"
   ]
  },
  {
   "cell_type": "code",
   "execution_count": null,
   "id": "37ad2b75",
   "metadata": {},
   "outputs": [],
   "source": [
    "# Tratando colunas de weapons\n",
    "df_weapons = df.drop_duplicates(subset='weapon_code')\n",
    "df_weapons = df_weapons[['weapon_code', 'weapon_description']]\n",
    "\n",
    "# Renomeando as colunas\n",
    "df_weapons.rename(columns={'weapon_code': 'id', 'weapon_description': 'name'}, inplace=True)\n",
    "df.rename(columns={'weapon_code': 'weapon_id'}, inplace=True)\n",
    "df.drop(labels=['weapon_description'], axis=1, inplace=True)\n",
    "\n",
    "# Salvando o conteudo\n",
    "df_weapons.to_csv('weapons.csv', sep=';', encoding='utf-8', index=False)\n",
    "print(df_weapons)"
   ]
  },
  {
   "cell_type": "code",
   "execution_count": null,
   "id": "6f24f514",
   "metadata": {},
   "outputs": [],
   "source": [
    "# Tratando as colunas de vitimas\n",
    "df_victims = df[['victim_id', 'victim_age', 'victim_sex', 'victim_descent']]\n",
    "df.drop(labels=['victim_age', 'victim_sex', 'victim_descent'], axis=1, inplace=True)\n",
    "\n",
    "# Renomeando as colunas\n",
    "df_victims.rename(columns={'victim_id': 'id', 'victim_age': 'age', 'victim_sex': 'sex', 'victim_descent': 'descent'}, inplace=True)\n",
    "\n",
    "# Salvando o conteudo\n",
    "df_victims.to_csv('victims.csv', sep=';', encoding='utf-8', index=False)"
   ]
  },
  {
   "cell_type": "code",
   "execution_count": null,
   "id": "fbb19030",
   "metadata": {},
   "outputs": [],
   "source": [
    "# Tratando as colunas de places\n",
    "df['location'] = df['location'].str.replace(r'\\s+', ' ', regex=True)\n",
    "df_places = df[['place_id', 'area_name', 'location', 'latitude', 'longitude', 'premise_description']]\n",
    "df_places.rename(columns={'place_id': 'id', 'area_name': 'square', 'location': 'address', 'premise_description': 'type'}, inplace=True)\n",
    "df.drop(labels=['cross_street', 'reporting_district', 'part', 'area', 'latitude', 'longitude', 'location', 'area_name', 'premise_code', 'premise_description'],  axis=1, inplace=True)\n",
    "\n",
    "# Salvando o conteudo\n",
    "df_places.to_csv('places.csv', sep=';', encoding='utf-8', index=False)\n",
    "df_places.head()"
   ]
  },
  {
   "cell_type": "code",
   "execution_count": null,
   "id": "79413b19",
   "metadata": {},
   "outputs": [],
   "source": [
    "# Salvando dataset de crimes\n",
    "df.to_csv('occurrences.csv', sep=';', encoding='utf-8', index=False)\n",
    "df.head()"
   ]
  },
  {
   "cell_type": "code",
   "execution_count": null,
   "id": "f0773c35",
   "metadata": {},
   "outputs": [],
   "source": []
  }
 ],
 "metadata": {
  "kernelspec": {
   "display_name": "Python 3 (ipykernel)",
   "language": "python",
   "name": "python3"
  },
  "language_info": {
   "codemirror_mode": {
    "name": "ipython",
    "version": 3
   },
   "file_extension": ".py",
   "mimetype": "text/x-python",
   "name": "python",
   "nbconvert_exporter": "python",
   "pygments_lexer": "ipython3",
   "version": "3.10.12"
  }
 },
 "nbformat": 4,
 "nbformat_minor": 5
}
